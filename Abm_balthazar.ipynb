{
 "cells": [
  {
   "cell_type": "code",
   "execution_count": 25,
   "id": "0c425d54",
   "metadata": {},
   "outputs": [],
   "source": [
    "from Base_model import *\n",
    "import matplotlib.pyplot as plt\n",
    "from matplotlib import animation"
   ]
  },
  {
   "cell_type": "code",
   "execution_count": 26,
   "id": "c8d115e7",
   "metadata": {},
   "outputs": [
    {
     "ename": "AttributeError",
     "evalue": "'Model' object has no attribute 'data_track'",
     "output_type": "error",
     "traceback": [
      "\u001b[1;31m---------------------------------------------------------------------------\u001b[0m",
      "\u001b[1;31mAttributeError\u001b[0m                            Traceback (most recent call last)",
      "Cell \u001b[1;32mIn[26], line 5\u001b[0m\n\u001b[0;32m      3\u001b[0m \u001b[38;5;28;01mfor\u001b[39;00m  _ \u001b[38;5;129;01min\u001b[39;00m \u001b[38;5;28mrange\u001b[39m(n):\n\u001b[0;32m      4\u001b[0m     model\u001b[38;5;241m.\u001b[39mrun()\n\u001b[1;32m----> 5\u001b[0m     \u001b[38;5;28mprint\u001b[39m(\u001b[38;5;28mlen\u001b[39m(model\u001b[38;5;241m.\u001b[39mdata_track[\u001b[38;5;241m0\u001b[39m]), \u001b[38;5;28mlen\u001b[39m(model\u001b[38;5;241m.\u001b[39mdata_track[\u001b[38;5;241m1\u001b[39m]))\n",
      "\u001b[1;31mAttributeError\u001b[0m: 'Model' object has no attribute 'data_track'"
     ]
    }
   ],
   "source": [
    "n = 10\n",
    "model = Model(5, 20, 20)\n",
    "for  _ in range(n):\n",
    "    model.run()\n",
    "    print(len(model.data_track[0]), len(model.data_track[1]))"
   ]
  }
 ],
 "metadata": {
  "kernelspec": {
   "display_name": "base",
   "language": "python",
   "name": "python3"
  },
  "language_info": {
   "codemirror_mode": {
    "name": "ipython",
    "version": 3
   },
   "file_extension": ".py",
   "mimetype": "text/x-python",
   "name": "python",
   "nbconvert_exporter": "python",
   "pygments_lexer": "ipython3",
   "version": "3.12.3"
  }
 },
 "nbformat": 4,
 "nbformat_minor": 5
}
